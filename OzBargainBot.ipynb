{
 "cells": [
  {
   "cell_type": "code",
   "execution_count": 1,
   "metadata": {},
   "outputs": [],
   "source": [
    "import feedparser"
   ]
  },
  {
   "cell_type": "code",
   "execution_count": 13,
   "metadata": {},
   "outputs": [],
   "source": [
    "ob = feedparser.parse('https://www.ozbargain.com.au/cat/groceries/feed')\n",
    "search_items = ['chips', 'paper towels']"
   ]
  },
  {
   "cell_type": "code",
   "execution_count": 33,
   "metadata": {},
   "outputs": [],
   "source": [
    "def print_feed(ozbargain_feed, search_items):\n",
    "    ob = ozbargain_feed\n",
    "    for x in ob['entries']:\n",
    "        for items in search_items:\n",
    "            if items in x['title'].lower():\n",
    "                print(x['title'])\n",
    "                print(x['published'])\n",
    "                print(x['link'])\n",
    "                print()"
   ]
  },
  {
   "cell_type": "code",
   "execution_count": 34,
   "metadata": {},
   "outputs": [
    {
     "name": "stdout",
     "output_type": "stream",
     "text": [
      "½ Price Handee Ultra White Paper Towels 4pk $2.75 @ Coles\n",
      "Mon, 09 Sep 2019 17:06:34 +1000\n",
      "https://www.ozbargain.com.au/node/482423\n",
      "\n",
      "Coles ½ Price: Kettle Potato Chips 175g $2.25, Lilydale Free Range Tenders /Schnitzels $5, McVitie’s Digestives $1.85 + More\n",
      "Mon, 09 Sep 2019 17:06:04 +1000\n",
      "https://www.ozbargain.com.au/node/482422\n",
      "\n",
      "½ Price Kettle Chilli Chips 175g $2.25 @ Woolworths\n",
      "Thu, 05 Sep 2019 08:32:12 +1000\n",
      "https://www.ozbargain.com.au/node/481561\n",
      "\n",
      "½ Price Mission White Strip Corn Chips 500g $2.75 @ Woolworths\n",
      "Wed, 04 Sep 2019 19:20:34 +1000\n",
      "https://www.ozbargain.com.au/node/481500\n",
      "\n",
      "Coles ½ Price: Doritos Corn Chips 150g-170g $1.65, Grain Waves 210g $1.97, Golden Wok Diana Chan’s Dumplings 230g $3.75 + More\n",
      "Mon, 02 Sep 2019 17:05:04 +1000\n",
      "https://www.ozbargain.com.au/node/480975\n",
      "\n"
     ]
    }
   ],
   "source": [
    "print_feed(ob, search_items)"
   ]
  },
  {
   "cell_type": "markdown",
   "metadata": {},
   "source": [
    "https://github.com/hikaruAi/FacebookBot"
   ]
  },
  {
   "cell_type": "code",
   "execution_count": null,
   "metadata": {},
   "outputs": [],
   "source": []
  }
 ],
 "metadata": {
  "kernelspec": {
   "display_name": "Python 3",
   "language": "python",
   "name": "python3"
  },
  "language_info": {
   "codemirror_mode": {
    "name": "ipython",
    "version": 3
   },
   "file_extension": ".py",
   "mimetype": "text/x-python",
   "name": "python",
   "nbconvert_exporter": "python",
   "pygments_lexer": "ipython3",
   "version": "3.6.8"
  }
 },
 "nbformat": 4,
 "nbformat_minor": 2
}
